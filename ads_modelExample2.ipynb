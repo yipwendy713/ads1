{
 "cells": [
  {
   "cell_type": "markdown",
   "metadata": {},
   "source": [
    "<font color=gray>ADS Sample Notebook.\n",
    "\n",
    "Copyright (c) 2020 Oracle, Inc.  All rights reserved.\n",
    "Licensed under the Universal Permissive License v 1.0 as shown at https://oss.oracle.com/licenses/upl.\n",
    "</font>"
   ]
  },
  {
   "cell_type": "markdown",
   "metadata": {},
   "source": [
    "***\n",
    "# <font color=red>Interaction with Model Catalog and Projects</font>\n",
    "<p style=\"margin-left:10%; margin-right:10%;\">by the <font color=teal> Oracle ADS Team </font></p>\n",
    "\n",
    "***"
   ]
  },
  {
   "cell_type": "markdown",
   "metadata": {},
   "source": [
    "## Overview of this Notebook\n",
    "This notebook provides a comprehensive coverage of all the CRUD operations you can do on models and projects with ADS, including how to save models built from ADS to the model catalog, how to list models/ edit models and load a model from the catalog, etc. \n",
    "\n",
    "The purpose of the model catalog is to provide a managed and centralized storage for model artifacts. The model catalog ensures that artifacts are immutable, facilitate model sharability and reproducibility. "
   ]
  },
  {
   "cell_type": "markdown",
   "metadata": {},
   "source": [
    "## Prerequisites:\n",
    " - Experience with specific topic: Novice\n",
    " - Professional experience: None"
   ]
  },
  {
   "cell_type": "markdown",
   "metadata": {},
   "source": [
    "## Objectives:\n",
    "By the end of this tutorial, you will know how to:\n",
    " - <a href='#load'>Loading a Toy Dataset using ADS</a>\n",
    " - <a href='#model'>Build and Train Simple Sklearn Models</a> \n",
    " - <a href='#mc'>Interacting with the Model Catalog</a>\n",
    "      - <a href='#prepare'>Preparing a Model Artifact for Storage in the Catalog from ADSModel</a>\n",
    "          - <a href='#prepare'>From An ADSModel</a>\n",
    "          - <a href='#prepare'>From Any Generic Model Type</a>\n",
    "      - <a href='#save'>Saving a Model to the Catalog</a>\n",
    "      - <a href='#listing'>Listing Models in the Catalog</a> \n",
    "      - <a href='#downloading'>Downloading a Model Artifact to your Notebook Session Environment</a>\n",
    "      - <a href='#inference'>Loading an `ADSModel` instance from the Model Artifact and Calling the Model</a> \n",
    "      - <a href='#cat-other-ops'>Other Operations on the Catalog</a>\n",
    " - <a href='#fn'>Deploying a Model as an Oracle Function</a>     \n",
    " - <a href='#projects'>Appendix I - Operations on `Projects`</a>\n",
    " ***"
   ]
  },
  {
   "cell_type": "markdown",
   "metadata": {},
   "source": [
    "Let's first start by importing all the necessary libraries we need to run this notebook. "
   ]
  },
  {
   "cell_type": "code",
   "execution_count": 1,
   "metadata": {},
   "outputs": [],
   "source": [
    "import pandas as pd\n",
    "from sklearn.utils import Bunch\n",
    "\n",
    "import os\n",
    "\n",
    "import warnings\n",
    "warnings.filterwarnings('ignore')\n",
    "\n",
    "import logging\n",
    "logging.basicConfig(format='%(levelname)s:%(message)s', level=logging.ERROR)\n",
    "\n",
    "from ads.dataset.factory import DatasetFactory"
   ]
  },
  {
   "cell_type": "markdown",
   "metadata": {},
   "source": [
    "<a id='load'></a>\n",
    "# Loading a Toy Dataset using ADS\n",
    "\n",
    "<font color=gray> (You can load from: a local or network file system, Hadoop Distributed File System, Amazon S3, Google Cloud Service, Pandas, Dask, or H2O. And in any of the following formats: CSV, TSV, Parquet, libsvm, json, Excel, HDF5, SQL, xml, apache server log files (clf, log) and arff.)</font>\n",
    "\n",
    "In the cell below, we're going to use the ADS DatasetFactory object to pull a dataset CSV file from the local notebook environment. While loading the data to memory, ADS will also create a sampled dataset that will be used to speed up visualizations. A progress bar indicates the progress of these operations to the user.\n",
    "\n",
    "<font color=gray> If you don't yet know the target in your project, you can explore the data first and set the target later.</font>\n",
    "\n",
    "<font color=gray>Datasets are provided as a convenience.  Datasets are considered Third Party\n",
    "Content and are not considered Materials under Your agreement with Oracle\n",
    "applicable to the Services.  You can access the `oracle_classification_dataset1` dataset license [here](oracle_data/UPL.txt). \n",
    "Dataset `oracle_classification_dataset1` is distributed under UPL license. \n",
    "</font>"
   ]
  },
  {
   "cell_type": "code",
   "execution_count": 2,
   "metadata": {},
   "outputs": [
    {
     "data": {
      "application/vnd.jupyter.widget-view+json": {
       "model_id": "",
       "version_major": 2,
       "version_minor": 0
      },
      "text/plain": [
       "HBox(children=(IntProgress(value=0, description='loop1', max=6, style=ProgressStyle(description_width='initial…"
      ]
     },
     "metadata": {},
     "output_type": "display_data"
    },
    {
     "data": {
      "text/html": [
       "\n",
       "            <br>\n",
       "\n",
       "            <div style=\"width: calc(100% -20px);\n",
       "                        border-left: 8px solid #588864;\n",
       "                        margin: 10px, 0, 10px, 0px;\n",
       "                        padding: 10px\">\n",
       "\n",
       "                \n",
       "                <p>Sampling (from 150000 rows) to 10000 rows for graphing</p>\n",
       "                \n",
       "            </div>\n",
       "\n",
       "            "
      ],
      "text/plain": [
       "<IPython.core.display.HTML object>"
      ]
     },
     "metadata": {},
     "output_type": "display_data"
    },
    {
     "data": {
      "text/html": [
       "\n",
       "                <div style=\"padding: 7px;\n",
       "                            border-radius: 4px;\n",
       "                            background-color: #d4ecd9;\n",
       "                            margin_bottom: 5px;\">\n",
       "                    <p><b>TIP:</b><br>&nbsp;&nbsp;+&nbsp;Use <code>show_in_notebook()</code> to visualize the dataset.<br>&nbsp;&nbsp;+&nbsp;Use <code>get_recommendations()</code> to view and apply recommendations for dataset optimization.</p>\n",
       "                </div>\n",
       "\n",
       "                "
      ],
      "text/plain": [
       "<IPython.core.display.HTML object>"
      ]
     },
     "metadata": {},
     "output_type": "display_data"
    },
    {
     "name": "stdout",
     "output_type": "stream",
     "text": [
      "\r"
     ]
    }
   ],
   "source": [
    "ds = DatasetFactory.open(\"/home/datascience/ads-examples/oracle_data/oracle_classification_dataset1_150K.csv\", target=\"class\")"
   ]
  },
  {
   "cell_type": "markdown",
   "metadata": {},
   "source": [
    "<a id='model'></a>\n",
    "# Build and Train Simple Sklearn Models\n",
    "\n",
    "First we are going to first apply some basic transformations using the `auto_transform()` method and apply a train/test split on the data. Then we are training two simple sklearn models: a random forest classifier and a logistic regresssion model. \n",
    "\n",
    "These two models will be saved to the model catalog. "
   ]
  },
  {
   "cell_type": "code",
   "execution_count": 3,
   "metadata": {},
   "outputs": [
    {
     "data": {
      "application/vnd.jupyter.widget-view+json": {
       "model_id": "",
       "version_major": 2,
       "version_minor": 0
      },
      "text/plain": [
       "HBox(children=(IntProgress(value=0, description='loop1', max=8, style=ProgressStyle(description_width='initial…"
      ]
     },
     "metadata": {},
     "output_type": "display_data"
    },
    {
     "name": "stdout",
     "output_type": "stream",
     "text": [
      "\r"
     ]
    }
   ],
   "source": [
    "# Let's apply some simple data transformation to that dataset: \n",
    "transformed_ds = ds.auto_transform(fix_imbalance=False)\n",
    "train, test = transformed_ds.train_test_split(test_size=0.15)\n",
    "X_train = train.X.values\n",
    "y_train = train.y.values\n",
    "X_test = test.X.values\n",
    "y_test = test.y.values\n",
    "\n",
    "from sklearn.ensemble import RandomForestClassifier\n",
    "from sklearn.linear_model import LogisticRegression\n",
    "\n",
    "# Two simple sklearn models: \n",
    "rf_clf = RandomForestClassifier(n_estimators=10).fit(X_train, y_train)\n",
    "lr_clf = LogisticRegression(random_state=0, solver='lbfgs', multi_class='multinomial').fit(train.X, train.y)"
   ]
  },
  {
   "cell_type": "markdown",
   "metadata": {},
   "source": [
    "<a id='mc'></a>\n",
    "# Interacting with the Model Catalog"
   ]
  },
  {
   "cell_type": "markdown",
   "metadata": {},
   "source": [
    "<a id='prepare'></a>\n",
    "## Preparing a Model Artifact for Storage in the Catalog\n",
    "\n",
    "### From an ADSModel\n",
    "\n",
    "Running the following cell will create two `ADSModel` objects: `rf_model`and `lr_model`. Note that the `ADSModel` object API allows you to convert models from a variety of libraries (sklearn, xgboost, lightGBM, keras, tensorflow) into an `ADSModel` object. Simply use the `from_estimator()` method. We also have a notebook example `ads_model_feature_1.ipynb` that shows how you can convert different models into `ADSModel` objects. \n",
    "\n",
    "By converting models to the `ADSModel` type, you can continue to use various features of ADS: Model Evaluation, Explanation, etc."
   ]
  },
  {
   "cell_type": "code",
   "execution_count": 4,
   "metadata": {},
   "outputs": [],
   "source": [
    "# we are converting here these two sklearn models to ADSModel instances. These are the two \n",
    "# models we will save to the model catalog. \n",
    "from ads.common.model import ADSModel\n",
    "rf_model = ADSModel.from_estimator(rf_clf)\n",
    "lr_model = ADSModel.from_estimator(lr_clf)"
   ]
  },
  {
   "cell_type": "markdown",
   "metadata": {},
   "source": [
    "Once an `ADSModel` object has been created the next step in the process is to prepare a model artifact. A model artifact is a zip archive containing all the necessary files to load and run the model in a different notebook session or outside of the OCI Data Science service altogether. The model artifact also contains the files necessary to deploy the model as an Oracle Function. \n",
    "\n",
    "The Model Catalog is a managed storage service for model artifacts. "
   ]
  },
  {
   "cell_type": "code",
   "execution_count": 5,
   "metadata": {},
   "outputs": [],
   "source": [
    "%load_ext autoreload\n",
    "%autoreload 2\n",
    "from ads.catalog.model import ModelSummaryList, ModelCatalog\n",
    "from ads.catalog.project import ProjectSummaryList, ProjectCatalog\n",
    "from ads.catalog.summary import SummaryList\n",
    "from ads.common.model_artifact import ModelArtifact\n",
    "from sklearn.utils import Bunch"
   ]
  },
  {
   "cell_type": "markdown",
   "metadata": {},
   "source": [
    "To prepare an artifact, simply call the `prepare()` method of an `ADSModel` object. The only required argument is the local path to the folder where you want to store the artifact. We recommend that you store your artifacts under the `block_storage/` directory as everything in that directory is preserved if you de-activate your notebook session. \n",
    "\n",
    "ADS will generate automatically all the files necessary to create the artifact. That is also part of the `prepare()` step. "
   ]
  },
  {
   "cell_type": "code",
   "execution_count": 6,
   "metadata": {},
   "outputs": [
    {
     "data": {
      "application/vnd.jupyter.widget-view+json": {
       "model_id": "",
       "version_major": 2,
       "version_minor": 0
      },
      "text/plain": [
       "HBox(children=(IntProgress(value=0, description='loop1', max=4, style=ProgressStyle(description_width='initial…"
      ]
     },
     "metadata": {},
     "output_type": "display_data"
    },
    {
     "name": "stdout",
     "output_type": "stream",
     "text": [
      "Generated model artifact files under '/home/datascience/block_storage/model'. Please update the inference script (score.py) as required.\n"
     ]
    },
    {
     "data": {
      "text/html": [
       "\n",
       "                <div style=\"padding: 7px;\n",
       "                            border-radius: 4px;\n",
       "                            background-color: #d4ecd9;\n",
       "                            margin_bottom: 5px;\">\n",
       "                    <p>Any function defined in <code>score.py</code> can be directly invoked on the returned <code>ModelArtifact</code> instance</p>\n",
       "                </div>\n",
       "\n",
       "                "
      ],
      "text/plain": [
       "<IPython.core.display.HTML object>"
      ]
     },
     "metadata": {},
     "output_type": "display_data"
    },
    {
     "name": "stdout",
     "output_type": "stream",
     "text": [
      "\r"
     ]
    }
   ],
   "source": [
    "path_to_model_artifact = \"/home/datascience/block_storage/model\"\n",
    "model_artifact = rf_model.prepare(path_to_model_artifact, force_overwrite=True)"
   ]
  },
  {
   "cell_type": "markdown",
   "metadata": {},
   "source": [
    "### From Any Generic Model Type\n",
    "\n",
    "If you don't need to create an `ADSModel` for Evaluation or Explanation, you can simply serialize your model and create an artifact from that. That too can be deployed as an Oracle Function, and managed by the ModelCatalog in exactly the same way. Below we demonstrate how to create this artifact using the `joblib` serializer, and the `rf_clf` from the `Build and Train` step above."
   ]
  },
  {
   "cell_type": "code",
   "execution_count": null,
   "metadata": {},
   "outputs": [],
   "source": [
    "from ads.common.model_export_util import prepare_generic_model\n",
    "import joblib\n",
    "\n",
    "path_to_generic_model_artifact = \"/home/datascience/block_storage/generic_model\"\n",
    "!mkdir /home/datascience/block_storage/generic_model\n",
    "\n",
    "joblib.dump(rf_clf, path_to_generic_model_artifact + \"/model.pkl\")\n",
    "generic_model_artifact = prepare_generic_model(path_to_generic_model_artifact)"
   ]
  },
  {
   "cell_type": "markdown",
   "metadata": {},
   "source": [
    "This `Model Artifact` will functionally be exactly the same as the one created from the `ADSModel` above."
   ]
  },
  {
   "cell_type": "markdown",
   "metadata": {},
   "source": [
    "Let's now take a look at the files in those model artifacts: "
   ]
  },
  {
   "cell_type": "code",
   "execution_count": null,
   "metadata": {},
   "outputs": [],
   "source": [
    "!ls /home/datascience/block_storage/model"
   ]
  },
  {
   "cell_type": "code",
   "execution_count": null,
   "metadata": {},
   "outputs": [],
   "source": [
    "!ls /home/datascience/block_storage/generic_model"
   ]
  },
  {
   "cell_type": "markdown",
   "metadata": {},
   "source": [
    "The first file is `score.py`. This Python module includes the functions needed to load the model to memory (`load_model()`) and make predictions (`predict()`). "
   ]
  },
  {
   "cell_type": "code",
   "execution_count": null,
   "metadata": {},
   "outputs": [],
   "source": [
    "!cat /home/datascience/block_storage/model/score.py"
   ]
  },
  {
   "cell_type": "markdown",
   "metadata": {},
   "source": [
    "We encapuslated the list of all Python libraries installed in the notebook environment in the `ds-requirements.txt` file. This ensures that a user can reproduce the notebook session environment in which that particular model was trained. "
   ]
  },
  {
   "cell_type": "code",
   "execution_count": null,
   "metadata": {},
   "outputs": [],
   "source": [
    "# we're only showing the first 15 libraries listed in the requirements file. \n",
    "\n",
    "!head -n 15 /home/datascience/block_storage/model/ds-requirements.txt"
   ]
  },
  {
   "cell_type": "markdown",
   "metadata": {},
   "source": [
    "The file `ds-runtime.yaml` is not used at the moment. "
   ]
  },
  {
   "cell_type": "code",
   "execution_count": null,
   "metadata": {},
   "outputs": [],
   "source": [
    "!cat /home/datascience/block_storage/model/ds-runtime.yaml"
   ]
  },
  {
   "cell_type": "markdown",
   "metadata": {},
   "source": [
    "Let us prepare the model artifact for the other `ADSModel` we created: `lr_model`. We'll use a different target directory for the artifact. "
   ]
  },
  {
   "cell_type": "code",
   "execution_count": null,
   "metadata": {},
   "outputs": [],
   "source": [
    "path_to_model_artifact2 = \"/home/datascience/block_storage/model2\"\n",
    "model_artifact2 = lr_model.prepare(path_to_model_artifact2, force_overwrite=True)\n",
    "model_artifact2"
   ]
  },
  {
   "cell_type": "markdown",
   "metadata": {},
   "source": [
    "In the cell below we show you an example of how you may want to customize the content of `score.py`. We modified the `_handle_input()` function to format the data before passing it to the model inference endpoint in `predict()`. "
   ]
  },
  {
   "cell_type": "code",
   "execution_count": null,
   "metadata": {},
   "outputs": [],
   "source": [
    "%%writefile /home/datascience/block_storage/model2/score.py\n",
    "\n",
    "import os\n",
    "\n",
    "from cloudpickle import cloudpickle\n",
    "\n",
    "\"\"\"\n",
    "   Inference script. This script is used for prediction by scoring server when schema is unknown.\n",
    "\"\"\"\n",
    "\n",
    "\n",
    "def load_model():\n",
    "    \"\"\"\n",
    "    Loads model from the serialized format\n",
    "\n",
    "    Returns\n",
    "    -------\n",
    "    model:  a model instance on which predict API can be invoked\n",
    "    \"\"\"\n",
    "    with open(os.path.join(os.path.dirname(os.path.realpath(__file__)), \"model.pkl\"), \"rb\") as file:\n",
    "        return cloudpickle.load(file)\n",
    "\n",
    "\n",
    "def predict(data, model=load_model()):\n",
    "    \"\"\"\n",
    "    Returns prediction given the model and data to predict\n",
    "\n",
    "    Parameters\n",
    "    ----------\n",
    "    data: `data` is passed to the model inference endpoint (usually `predict()`) after being processed by the function `_handle_input()`. `_handle_input()` expects `data` to be a stringyfield JSON. Modify `_handle_input()` if you want `data` to be in a different format.\n",
    "    model: Model instance returned by load_model API\n",
    "    `warning -` If predict method will be called frequently, the performance may be affected by repeated invokation of `load_model`. You may consider to store it into a varialbe within the module and pass that model. Eg. - \n",
    "    `_model = load_model()`\n",
    "    `def predict(data, model = _model)`\n",
    "\n",
    "    Returns\n",
    "    -------\n",
    "    predictions: Json formatted prediction\n",
    "\n",
    "    \"\"\"\n",
    "    data = _handle_input(data)\n",
    "    return _handle_output(model.predict(data))\n",
    "\n",
    "\n",
    "def _handle_input(data):\n",
    "    \"\"\"\n",
    "    Convert input data to the format that model expects\n",
    "\n",
    "    Parameters\n",
    "    ----------\n",
    "    data: input data\n",
    "\n",
    "    Returns\n",
    "    -------\n",
    "    transformed_input: Should match the input format for model.predict() API\n",
    "    \"\"\"\n",
    "    import pandas as pd\n",
    "    return pd.DataFrame(data, columns=['col01', 'col02', 'col03', 'col04', 'col05', 'col06', 'col07', 'col08',\n",
    "       'col09', 'col010', 'col011', 'col012', 'col013', 'col014', 'col015',\n",
    "       'col016', 'col017', 'col018', 'col019', 'col020', 'col021', 'col022',\n",
    "       'col023', 'col024', 'col025', 'col026', 'col027', 'col028', 'col029',\n",
    "       'col030', 'col031', 'col032', 'col033', 'col034', 'col035', 'col036',\n",
    "       'col037', 'col038', 'col039', 'col040', 'col041', 'col042', 'col043',\n",
    "       'col044', 'col045', 'col046', 'col047', 'col048'])\n",
    "\n",
    "\n",
    "def _handle_output(predictions):\n",
    "    \"\"\"\n",
    "    Converts output to the format that model prediction endpoint should return\n",
    "\n",
    "    Returns\n",
    "    -------\n",
    "    transformed_output: Predict endpoint response\n",
    "    \"\"\"\n",
    "    return predictions\n"
   ]
  },
  {
   "cell_type": "markdown",
   "metadata": {},
   "source": [
    "By calling `reload()` you are essentially committing any changes you have made to `score.py`. Make sure to `reload()` if you made changes to `score.py` before saving your artifact to the catalog."
   ]
  },
  {
   "cell_type": "code",
   "execution_count": null,
   "metadata": {},
   "outputs": [],
   "source": [
    "model_artifact2.reload()"
   ]
  },
  {
   "cell_type": "code",
   "execution_count": null,
   "metadata": {},
   "outputs": [],
   "source": [
    "model_artifact2.predict(test.X.values[:10])"
   ]
  },
  {
   "cell_type": "markdown",
   "metadata": {},
   "source": [
    "<a id='save'></a>\n",
    "## Saving a Model to the Model Catalog \n",
    "\n",
    "The next step is to take that model artifact and save it to the model catalog. To do so, you will need to assign a project and compartment OCID to your model. An [OCID](https://docs.cloud.oracle.com/iaas/Content/General/Concepts/identifiers.htm) is an Oracle-assigned unique ID (Oracle Cloud Identifier -- OCID). It is included as part of the \n",
    "resources information in both the Console and the API. Note that projects, notebook sessions and models are OCI resources and consequently they have OCIDs too. \n",
    "\n",
    "We have included those values as environment variables in your notebook session. In fact you can access the following four OCIDs as environment variables: \n",
    "\n",
    "* `PROJECT_OCID`: Project OCID attached to this notebook session\n",
    "* `NB_SESSION_OCID`: OCID of this notebook session\n",
    "* `NB_SESSION_COMPARTMENT_OCID`: Compartment OCID of this notebook session \n",
    "* `USER_OCID`: Your user OCID. \n",
    "\n",
    "In the cell below we save the model in the same compartment as the notebook session and in the same project as the project associated with this notebook session. In principle, you can save your model into a different project and or compartment than the currently running notebook sessions: this allows you to isolate certain models in different compartments or use a dev-staging-prod approach to your models. "
   ]
  },
  {
   "cell_type": "code",
   "execution_count": null,
   "metadata": {},
   "outputs": [],
   "source": [
    "compartment_id = os.environ['NB_SESSION_COMPARTMENT_OCID']\n",
    "project_id = os.environ[\"PROJECT_OCID\"]\n",
    "\n",
    "# Saving the model artifact to the model catalog: \n",
    "mc_model = model_artifact.save(project_id=project_id, compartment_id=compartment_id, display_name=\"my_model\",\n",
    "                                 description=\"test description\", training_script_path=\"ads_ModelCatalog_1.ipynb\", ignore_pending_changes=True)\n",
    "mc_model"
   ]
  },
  {
   "cell_type": "markdown",
   "metadata": {},
   "source": [
    "The output cell above should display metadata about the model you just saved. You can verify that your model is stored in the model catalog by going in your project page under `Models` as shown below: "
   ]
  },
  {
   "attachments": {
    "model-catalog-save.png": {
     "image/png": "[encoded data removed]"
    }
   },
   "cell_type": "markdown",
   "metadata": {},
   "source": [
    "![model-catalog-save.png](attachment:model-catalog-save.png)"
   ]
  },
  {
   "cell_type": "markdown",
   "metadata": {},
   "source": [
    "Your model has been saved successfully to the model catalog! "
   ]
  },
  {
   "cell_type": "markdown",
   "metadata": {},
   "source": [
    "<a id='listing'></a>\n",
    "## Listing Models in the Catalog"
   ]
  },
  {
   "cell_type": "markdown",
   "metadata": {},
   "source": [
    "Now let's suppose that you have saved models to the model catalog and you now want to load them in a different notebook session. Perhaps you want to share that model with a colleague who works in the same project. You can load a model to memory from the model catalog by using ADS. \n",
    "\n",
    "Unless you have the OCID of the model you want to load, you may want to list the content of the model catalog. As users can put models in different isolated compartments, you need to specify a compartment OCID to list the content of the model catalog. \n",
    "\n",
    "Let's start by creating an instance of the `ModelCatalog` object: "
   ]
  },
  {
   "cell_type": "code",
   "execution_count": null,
   "metadata": {},
   "outputs": [],
   "source": [
    "mc = ModelCatalog(compartment_id = os.environ['NB_SESSION_COMPARTMENT_OCID'])\n",
    "type(mc)"
   ]
  },
  {
   "cell_type": "markdown",
   "metadata": {},
   "source": [
    "The `ModelCatalog` API allows you to list, delete, download, update, and upload models easily. We are going to list models first. You should see at least two models in this list: the two models you saved earlier in the same compartment "
   ]
  },
  {
   "cell_type": "code",
   "execution_count": null,
   "metadata": {},
   "outputs": [],
   "source": [
    "mc.list_models()"
   ]
  },
  {
   "cell_type": "code",
   "execution_count": null,
   "metadata": {},
   "outputs": [],
   "source": [
    "my_model_list = mc.list_models()\n",
    "type(my_model_list)"
   ]
  },
  {
   "cell_type": "markdown",
   "metadata": {},
   "source": [
    "`my_model_list` is an instance of the `ModelSummaryList` object: \n",
    "\n",
    "```\n",
    "ads.catalog.model.ModelSummaryList\n",
    "```\n",
    "\n",
    "It is essentially a list that you can manipulate in different ways. You can select a model by applying a simple `filter()` to the list. In the cell below, we included a simple snippet to filter entries. Replace value with your user name: "
   ]
  },
  {
   "cell_type": "code",
   "execution_count": null,
   "metadata": {},
   "outputs": [],
   "source": [
    "your_user_name = '<your-user-name>'\n",
    "my_new_list = []\n",
    "\n",
    "if your_user_name != '<your-user-name>': \n",
    "    my_new_list = my_model_list.filter(lambda x: x.user_name==your_user_name)\n",
    "my_new_list"
   ]
  },
  {
   "cell_type": "markdown",
   "metadata": {},
   "source": [
    "You can also convert to a Pandas dataframe directly from the `ModelSummaryList` by calling: "
   ]
  },
  {
   "cell_type": "code",
   "execution_count": null,
   "metadata": {},
   "outputs": [],
   "source": [
    "pandas_df = my_model_list.df\n",
    "type(pandas_df)"
   ]
  },
  {
   "cell_type": "markdown",
   "metadata": {},
   "source": [
    "From there it becomes very easy to sort and filter your model list just like you would sort and filter a Pandas dataframe. For example below \n",
    "we sort by the name of the model and we select the first entry: "
   ]
  },
  {
   "cell_type": "code",
   "execution_count": null,
   "metadata": {},
   "outputs": [],
   "source": [
    "pandas_df.sort_values('display_name', axis=0)[:1]"
   ]
  },
  {
   "cell_type": "markdown",
   "metadata": {},
   "source": [
    "You can also access a particular entry by specifying the position in the list. For example: "
   ]
  },
  {
   "cell_type": "code",
   "execution_count": null,
   "metadata": {},
   "outputs": [],
   "source": [
    "my_model_list[0]"
   ]
  },
  {
   "cell_type": "markdown",
   "metadata": {},
   "source": [
    "Once you have found the model or models you want to load, the next step is to download the artifact from the catalog into your notebook session environment. "
   ]
  },
  {
   "cell_type": "markdown",
   "metadata": {},
   "source": [
    "<a id='downloading'></a>\n",
    "## Downloading a Model Artifact to your Notebook Session Environment\n",
    "\n",
    "You can use the `download_model()` of the `ModelCatalog` object to download an artifact locally. `download_model` requires a model OCID value as well as a target directory for the artifact file. We are going to download the first model in the model list we created above. If you know the OCID of your model you can pass it directly to `download_model()`. "
   ]
  },
  {
   "cell_type": "code",
   "execution_count": null,
   "metadata": {},
   "outputs": [],
   "source": [
    "path_to_my_loaded_model = '/home/datascience/block_storage/model3'\n",
    "mc.download_model(my_model_list[0].id, path_to_my_loaded_model, force_overwrite=True)"
   ]
  },
  {
   "cell_type": "markdown",
   "metadata": {},
   "source": [
    "<a id='inference'></a>\n",
    "## Loading the `ADSModel` instance from the Model Artifact and Calling the Model\n",
    "\n",
    "Next we are going to load this model artifact: "
   ]
  },
  {
   "cell_type": "code",
   "execution_count": null,
   "metadata": {},
   "outputs": [],
   "source": [
    "model_artifact = ModelArtifact(path_to_my_loaded_model)"
   ]
  },
  {
   "cell_type": "markdown",
   "metadata": {},
   "source": [
    "Next we are going to load that artifact to memory and extract the `ADSModel` object from it: "
   ]
  },
  {
   "cell_type": "code",
   "execution_count": null,
   "metadata": {},
   "outputs": [],
   "source": [
    "model_artifact.reload()\n",
    "model3 = model_artifact.model\n",
    "type(model3)"
   ]
  },
  {
   "cell_type": "markdown",
   "metadata": {},
   "source": [
    "You should see an output similar to: \n",
    "\n",
    "```\n",
    "ads.common.model.ADSModel\n",
    "```\n",
    "\n",
    "model2 is an `ADSModel` object. \n",
    "\n",
    "Finally, we can use the inference method on the `ADSModel` object to make predictions on new data entries: "
   ]
  },
  {
   "cell_type": "code",
   "execution_count": null,
   "metadata": {},
   "outputs": [],
   "source": [
    "model3.predict(X_test[1:10])"
   ]
  },
  {
   "cell_type": "markdown",
   "metadata": {},
   "source": [
    "You should seen an output similar to this: \n",
    "\n",
    "```\n",
    "array([1., 0., 0., 0., 1., 0., 1., 1., 1.])\n",
    "```"
   ]
  },
  {
   "cell_type": "markdown",
   "metadata": {},
   "source": [
    "Within a few cells you were able to load and train a model with `ADS`, save the model artifact to the model catalog, and load that same model in your notebook session as a different `ADSModel`. This is the preferred way to share models among members of a data science team and across notebook sessions. "
   ]
  },
  {
   "cell_type": "markdown",
   "metadata": {},
   "source": [
    "## Other Operations on Models and Model Catalog \n",
    "\n",
    "Here we go over some additional operations you can take on models in the catalog. First let's connect to the `ModelCatalog`: "
   ]
  },
  {
   "cell_type": "code",
   "execution_count": null,
   "metadata": {},
   "outputs": [],
   "source": [
    "mc = ModelCatalog(compartment_id = os.environ['NB_SESSION_COMPARTMENT_OCID'])"
   ]
  },
  {
   "cell_type": "markdown",
   "metadata": {},
   "source": [
    "You can delete a model by calling `delete_model()` with the OCID of the model you want to delete. We're going to delete the first model in the list: "
   ]
  },
  {
   "cell_type": "code",
   "execution_count": null,
   "metadata": {},
   "outputs": [],
   "source": [
    "mc.delete_model(mc.list_models()[0].id)"
   ]
  },
  {
   "cell_type": "markdown",
   "metadata": {},
   "source": [
    "You can confirm that your model has been deleted by running `list_models()` again or by going to the OCI Console. "
   ]
  },
  {
   "cell_type": "code",
   "execution_count": null,
   "metadata": {},
   "outputs": [],
   "source": [
    "mc.list_models()"
   ]
  },
  {
   "cell_type": "markdown",
   "metadata": {},
   "source": [
    "Now we are going to select a model from the list of models. You can get a model in a couple of ways. You can use the `get_model()` method of the `ModelCatalog()` or by directly selecting an entry in the list. For `get_model()`, simply specify the OCID of the model (which can be accessed via the `list_models()` method). \n",
    "\n",
    "`retrieved_model_1` is the same model as `retrieved_model_2`: "
   ]
  },
  {
   "cell_type": "code",
   "execution_count": null,
   "metadata": {},
   "outputs": [],
   "source": [
    "# these two ways of pulling a model are equivalent: \n",
    "\n",
    "retrieved_model_1 = mc.get_model(mc.list_models()[0].id)\n",
    "retrieved_model_2 = mc.list_models()[0]"
   ]
  },
  {
   "cell_type": "markdown",
   "metadata": {},
   "source": [
    "Now let's go over some additional operations you can apply to a `Model` instance: "
   ]
  },
  {
   "cell_type": "markdown",
   "metadata": {},
   "source": [
    "#### `show_in_notebook()` \n",
    "\n",
    "Call to `show_in_notebook()` provides a visual interface to the model metadata: "
   ]
  },
  {
   "cell_type": "code",
   "execution_count": null,
   "metadata": {},
   "outputs": [],
   "source": [
    "retrieved_model_1.show_in_notebook()"
   ]
  },
  {
   "cell_type": "markdown",
   "metadata": {},
   "source": [
    "#### `deactivate()`\n",
    "\n",
    "`deactivate()` is similar to archiving a model. By `deactivating` a model, the model is marked as `Inactive` and is not returned on default queries to the model catalog. Though the artifact is not deleted if you `deactivate` a model. \n",
    "\n",
    "All updates on a model need to be followed by a `commit()` call to push those changes to the model catalog. `deactivating()` is good for tracking old models you don't intend on using anymore or you want to keep as a reference. "
   ]
  },
  {
   "cell_type": "code",
   "execution_count": null,
   "metadata": {},
   "outputs": [],
   "source": [
    "retrieved_model_1.deactivate()\n",
    "retrieved_model_1.commit()"
   ]
  },
  {
   "cell_type": "markdown",
   "metadata": {},
   "source": [
    "#### `activate()`\n",
    "\n",
    "Similarly you can activate a model that has been de-activated: "
   ]
  },
  {
   "cell_type": "code",
   "execution_count": null,
   "metadata": {},
   "outputs": [],
   "source": [
    "retrieved_model_1.activate()\n",
    "retrieved_model_1.commit()"
   ]
  },
  {
   "cell_type": "markdown",
   "metadata": {},
   "source": [
    "#### Updating model name or description \n",
    "\n",
    "You can change the name and description of your model: "
   ]
  },
  {
   "cell_type": "code",
   "execution_count": null,
   "metadata": {},
   "outputs": [],
   "source": [
    "retrieved_model_1.display_name = \"new_name\"\n",
    "retrieved_model_1.description = \"new description\"\n",
    "retrieved_model_1.commit()"
   ]
  },
  {
   "cell_type": "markdown",
   "metadata": {},
   "source": [
    "#### Display Model Provenance Metadata \n",
    "\n",
    "When you clone an existing `git` repo and commit your notebooks or python scripts, `ADS` automatically extracts the latest commit information and store that information as part of the model provenance metadata: "
   ]
  },
  {
   "cell_type": "code",
   "execution_count": null,
   "metadata": {},
   "outputs": [],
   "source": [
    "retrieved_model_1.provenance_metadata"
   ]
  },
  {
   "cell_type": "markdown",
   "metadata": {},
   "source": [
    "<a id='fn'></a>\n",
    "# Deploying a Model as an Oracle Function "
   ]
  },
  {
   "cell_type": "markdown",
   "metadata": {},
   "source": [
    "A model artifact can also be deployed as an [Oracle Function](https://docs.cloud.oracle.com/iaas/Content/Functions/Concepts/functionsoverview.htm). The files for Function deployment are located in the `fn-folder/` of the model artifact. We have a notebook example on [deploying machine learning models to Oracle Functions](./ADS_Model_Deployment.ipynb) (`ADS_Model_Deployment.ipynb`). Please follow the instructions in that notebook. "
   ]
  },
  {
   "cell_type": "markdown",
   "metadata": {},
   "source": [
    "<a id='projects'></a>\n",
    "# Appendix I - Operations on `Projects` \n",
    "\n",
    "`Projects` is another resource that is part of the Data Science service and ADS provides you an interface to perform operations on projects. \n",
    "\n",
    "## Listing Projects \n",
    "\n",
    "To list projects you need to provide a compartment OCID in which projects are found. we provie a `list_projects()` method to list these projects "
   ]
  },
  {
   "cell_type": "code",
   "execution_count": null,
   "metadata": {},
   "outputs": [],
   "source": [
    "compartment_id = os.environ['NB_SESSION_COMPARTMENT_OCID']\n",
    "\n",
    "pc = ProjectCatalog(compartment_id=compartment_id)\n",
    "type(pc)"
   ]
  },
  {
   "cell_type": "markdown",
   "metadata": {},
   "source": [
    "Note that `pc` is an instance of the `ProjectCatalog` object. \n",
    "\n",
    "```\n",
    "ads.catalog.project.ProjectCatalog\n",
    "```"
   ]
  },
  {
   "cell_type": "code",
   "execution_count": null,
   "metadata": {},
   "outputs": [],
   "source": [
    "pc.list_projects()"
   ]
  },
  {
   "cell_type": "markdown",
   "metadata": {},
   "source": [
    "## Reading a Project Metadata\n",
    "\n",
    "You can also retrieve a particular model from the list by using the `get_project()` method. Just pass the OCID of the project of interest: "
   ]
  },
  {
   "cell_type": "code",
   "execution_count": null,
   "metadata": {},
   "outputs": [],
   "source": [
    "my_project = pc.get_project(pc.list_projects()[0].id)\n",
    "my_project.show_in_notebook()"
   ]
  },
  {
   "cell_type": "markdown",
   "metadata": {},
   "source": [
    "The output cell will display the `OCID`, `description`, `display_name` etc. for that project. Instance `my_project` is of type `Project`. "
   ]
  },
  {
   "cell_type": "markdown",
   "metadata": {},
   "source": [
    "## Creating a Project\n",
    "\n",
    "Once you have created an instance of `ProjectCatalog`, you can easily create a project by calling its `create_project()` method: "
   ]
  },
  {
   "cell_type": "code",
   "execution_count": null,
   "metadata": {},
   "outputs": [],
   "source": [
    "new_project = pc.create_project(display_name='test_project_from_ads',\n",
    "                               description='this is a test project',\n",
    "                               compartment_id=compartment_id)"
   ]
  },
  {
   "cell_type": "code",
   "execution_count": null,
   "metadata": {},
   "outputs": [],
   "source": [
    "type(new_project)"
   ]
  },
  {
   "cell_type": "markdown",
   "metadata": {},
   "source": [
    "You should be able to see your newly created project in the Console UI. `new_project` is an instance of `Project` object: \n",
    "\n",
    "```\n",
    "oci.data_science.models.project.Project\n",
    "```"
   ]
  },
  {
   "cell_type": "markdown",
   "metadata": {},
   "source": [
    "## Updating a Project\n",
    "\n",
    "Similar to models, you can also modify the name and description of a project. Use `commit()` to push those changes to the projects catalog \n"
   ]
  },
  {
   "cell_type": "code",
   "execution_count": null,
   "metadata": {},
   "outputs": [],
   "source": [
    "new_project.description = 'a new description'\n",
    "new_project.display_name = 'a new name from ads'\n",
    "new_project.commit()"
   ]
  },
  {
   "cell_type": "markdown",
   "metadata": {},
   "source": [
    "In the output cell above, you should see the changes made to your project. "
   ]
  },
  {
   "cell_type": "markdown",
   "metadata": {},
   "source": [
    "## Deleting a Project \n",
    "\n",
    "You can also delete your newly created project: "
   ]
  },
  {
   "cell_type": "code",
   "execution_count": null,
   "metadata": {},
   "outputs": [],
   "source": [
    "pc.delete_project(new_project.id)"
   ]
  },
  {
   "cell_type": "markdown",
   "metadata": {},
   "source": [
    "Go in the Console UI and confirm that the status is now `Deleted` for that project. "
   ]
  }
 ],
 "metadata": {
  "kernelspec": {
   "display_name": "Python 3",
   "language": "python",
   "name": "python3"
  },
  "language_info": {
   "codemirror_mode": {
    "name": "ipython",
    "version": 3
   },
   "file_extension": ".py",
   "mimetype": "text/x-python",
   "name": "python",
   "nbconvert_exporter": "python",
   "pygments_lexer": "ipython3",
   "version": "3.6.9"
  }
 },
 "nbformat": 4,
 "nbformat_minor": 4
}
